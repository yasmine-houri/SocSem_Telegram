{
 "cells": [
  {
   "cell_type": "markdown",
   "metadata": {},
   "source": [
    "## Import packages"
   ]
  },
  {
   "cell_type": "code",
   "execution_count": null,
   "metadata": {},
   "outputs": [],
   "source": [
    "# !pip install zstandard\n",
    "# !pip install ujson\n",
    "# !pip install stopwordsiso\n",
    "# !pip install matplotlib\n",
    "# !pip install nltk\n",
    "# !pip install bs4"
   ]
  },
  {
   "cell_type": "code",
   "execution_count": null,
   "metadata": {},
   "outputs": [],
   "source": [
    "# Read data\n",
    "import pickle\n",
    "import pandas as pd\n",
    "import zstandard as zstd\n",
    "import json\n",
    "import ujson\n",
    "import io\n",
    "import os\n",
    "\n",
    "# SNA\n",
    "import numpy as np\n",
    "import networkx as nx\n",
    "import matplotlib.pyplot as plt\n",
    "import re\n",
    "from itertools import islice\n",
    "\n",
    "# Domain study\n",
    "from collections import Counter\n",
    "# import urlexpander\n",
    "\n",
    "import random\n",
    "random.seed(2024)"
   ]
  },
  {
   "cell_type": "code",
   "execution_count": null,
   "metadata": {},
   "outputs": [
    {
     "name": "stderr",
     "output_type": "stream",
     "text": [
      "[nltk_data] Downloading package stopwords to\n",
      "[nltk_data]     C:\\Users\\167266\\AppData\\Roaming\\nltk_data...\n",
      "[nltk_data]   Package stopwords is already up-to-date!\n",
      "[nltk_data] Downloading package punkt to\n",
      "[nltk_data]     C:\\Users\\167266\\AppData\\Roaming\\nltk_data...\n",
      "[nltk_data]   Package punkt is already up-to-date!\n",
      "[nltk_data] Downloading package punkt_tab to\n",
      "[nltk_data]     C:\\Users\\167266\\AppData\\Roaming\\nltk_data...\n",
      "[nltk_data]   Package punkt_tab is already up-to-date!\n"
     ]
    }
   ],
   "source": [
    "# Error solving\n",
    "np.float = float\n",
    "np.int = int   #module 'numpy' has no attribute 'int'\n",
    "np.object = object    #module 'numpy' has no attribute 'object'\n",
    "np.bool = bool    #module 'numpy' has no attribute 'bool'\n",
    "np. typeDict = np.sctypeDict\n",
    "\n",
    "# NLP\n",
    "import nltk\n",
    "nltk.download('stopwords')\n",
    "nltk.download('punkt')\n",
    "nltk.download('punkt_tab')\n",
    "from nltk.tokenize import word_tokenize\n",
    "# from nltk.corpus import stopwords\n",
    "import string\n",
    "import stopwordsiso as stopwords"
   ]
  },
  {
   "cell_type": "code",
   "execution_count": null,
   "metadata": {},
   "outputs": [],
   "source": [
    "#importing the libraries\n",
    "from urllib.request import urlopen\n",
    "from bs4 import BeautifulSoup\n",
    "import requests\n",
    "from requests.adapters import HTTPAdapter\n",
    "from urllib3.util.retry import Retry\n",
    "\n",
    "\n",
    "session = requests.Session()\n",
    "retry = Retry(connect=3, backoff_factor=0.5)\n",
    "adapter = HTTPAdapter(max_retries=retry)\n",
    "session.mount('http://', adapter)\n",
    "session.mount('https://', adapter)"
   ]
  },
  {
   "cell_type": "markdown",
   "metadata": {},
   "source": [
    "## Read the data and instantiate the text"
   ]
  },
  {
   "cell_type": "code",
   "execution_count": null,
   "metadata": {},
   "outputs": [
    {
     "name": "stdout",
     "output_type": "stream",
     "text": [
      "Total number of messages, including duplicates: 2669449\n",
      "Total number of unique messages: 2081743\n"
     ]
    }
   ],
   "source": [
    "# Messages\n",
    "\n",
    "with open(\"E:\\\\._PhD\\\\Data\\\\Telegram\\\\PushshiftChannels\\\\extractions\\\\all_messages_urls.json\", 'rb') as f:\n",
    "    messages = pickle.load(f)\n",
    "\n",
    "print(\"Total number of messages, including duplicates:\", len(messages))\n",
    "print(\"Total number of unique messages:\", len(set([m['message'] for m in messages])))"
   ]
  },
  {
   "cell_type": "code",
   "execution_count": null,
   "metadata": {},
   "outputs": [
    {
     "name": "stdout",
     "output_type": "stream",
     "text": [
      "Total number of messages, excluding duplicates: 1760623\n"
     ]
    }
   ],
   "source": [
    "# # Delete messages shorter that 5 strings\n",
    "# messages = [m for m in messages if len(m['message'].split(\" \")) > 5]\n",
    "# print(\"Total number of messages, excluding duplicates:\", len(set([m['message'] for m in messages])))"
   ]
  },
  {
   "cell_type": "markdown",
   "metadata": {},
   "source": [
    "## Pre-processing"
   ]
  },
  {
   "cell_type": "code",
   "execution_count": null,
   "metadata": {},
   "outputs": [
    {
     "name": "stdout",
     "output_type": "stream",
     "text": [
      "Total number of messages, excluding duplicates: 2081743\n",
      "Is the number of unique messages in the df equal to the number of unique messages in the list? True\n"
     ]
    }
   ],
   "source": [
    "msg_df = pd.DataFrame(messages)[['date','id','message','to_id','fwd_from']] # create dataframe\n",
    "msg_df['to_id'] = msg_df['to_id'].apply(lambda x: x['channel_id']) # extract id of destination channel\n",
    "msg_df['fwd_from'] = msg_df['fwd_from'].apply(lambda x: str(x['channel_id'])) # extract id of channel of origin\n",
    "\n",
    "print(\"Total number of messages, excluding duplicates:\", len(msg_df['message'].unique()))\n",
    "print(\"Is the number of unique messages in the df equal to the number of unique messages in the list?\", len(set([m['message'] for m in messages])) == len(msg_df['message'].unique()))"
   ]
  },
  {
   "cell_type": "code",
   "execution_count": null,
   "metadata": {},
   "outputs": [],
   "source": [
    "import tldextract\n",
    "\n",
    "# Function to extract domain names\n",
    "def extract_url(message):\n",
    "    words = message.split()\n",
    "    urls = []\n",
    "    for word in words:\n",
    "        ext = tldextract.extract(word)\n",
    "        if ext.domain and ext.suffix:  # Checks if it’s a valid domain and suffix\n",
    "            urls.append(f\"{ext.subdomain}.{ext.domain}.{ext.suffix}\".strip(\".\"))\n",
    "    return urls\n",
    "\n",
    "# Apply the function to the message column\n",
    "msg_df['url'] = msg_df['message'].apply(extract_url)"
   ]
  },
  {
   "cell_type": "code",
   "execution_count": null,
   "metadata": {},
   "outputs": [
    {
     "data": {
      "text/plain": [
       "0                 [www.pewtrusts.org]\n",
       "1                  [www.infowars.com]\n",
       "2                   [siegekultur.biz]\n",
       "3                       [twitter.com]\n",
       "4                     [www.pakin.org]\n",
       "                      ...            \n",
       "2669444                        [t.me]\n",
       "2669445                        [t.me]\n",
       "2669446                        [t.me]\n",
       "2669447    [telegram.me, telegram.me]\n",
       "2669448                   [mixlr.com]\n",
       "Name: url, Length: 2669449, dtype: object"
      ]
     },
     "metadata": {},
     "output_type": "display_data"
    }
   ],
   "source": [
    "msg_df['url']"
   ]
  },
  {
   "cell_type": "code",
   "execution_count": null,
   "metadata": {},
   "outputs": [],
   "source": [
    "msg_df.to_csv('E:\\._PhD\\Publications\\SocSem_Telegram\\Code\\msg_df_with_urls.csv', index=False)"
   ]
  }
 ],
 "metadata": {
  "kernelspec": {
   "display_name": "nlp",
   "language": "python",
   "name": "python3"
  },
  "language_info": {
   "name": "python",
   "version": "3.11.9"
  }
 },
 "nbformat": 4,
 "nbformat_minor": 2
}
