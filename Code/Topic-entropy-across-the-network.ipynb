{
 "cells": [
  {
   "cell_type": "markdown",
   "metadata": {},
   "source": [
    "# Topic entropy across the network"
   ]
  },
  {
   "cell_type": "code",
   "execution_count": 1,
   "metadata": {},
   "outputs": [],
   "source": [
    "# Read data\n",
    "import pickle\n",
    "import pandas as pd\n",
    "import zstandard as zstd\n",
    "import json\n",
    "import ujson\n",
    "import io\n",
    "import os\n",
    "\n",
    "# SNA\n",
    "import numpy as np\n",
    "import networkx as nx\n",
    "import matplotlib.pyplot as plt\n",
    "import re\n",
    "from itertools import islice\n",
    "\n",
    "# Domain study\n",
    "from collections import Counter\n",
    "# import urlexpander\n",
    "\n",
    "import random\n",
    "random.seed(2024)"
   ]
  },
  {
   "cell_type": "code",
   "execution_count": 2,
   "metadata": {},
   "outputs": [],
   "source": [
    "def read_excel_sheets_to_dict(filename):\n",
    "  \"\"\"\n",
    "  Reads each sheet from an Excel file and compiles them into a dictionary.\n",
    "\n",
    "  Args:\n",
    "    filename: The path to the Excel file.\n",
    "\n",
    "  Returns:\n",
    "    A dictionary where keys are sheet names and values are pandas DataFrames.\n",
    "  \"\"\"\n",
    "  excel_file = pd.ExcelFile(filename)\n",
    "  sheets = {}\n",
    "  for sheet_name in excel_file.sheet_names:\n",
    "    sheets[int(re.findall(r'\\d+', sheet_name)[0])] = excel_file.parse(sheet_name)\n",
    "    sheets[int(re.findall(r'\\d+', sheet_name)[0])] = sheets[int(re.findall(r'\\d+', sheet_name)[0])]['Sentences'].tolist()\n",
    "  return sheets"
   ]
  },
  {
   "cell_type": "code",
   "execution_count": 3,
   "metadata": {},
   "outputs": [],
   "source": [
    "# Read data\n",
    "\n",
    "## Topic modeling results\n",
    "with open('E:\\\\._PhD\\\\Publications\\\\SocSem_Telegram\\\\data\\\\topic_modeling_results.pkl', 'rb') as f:\n",
    "    topic_modeling_results = pickle.load(f)\n",
    "\n",
    "topics = read_excel_sheets_to_dict('E:\\\\._PhD\\\\Publications\\\\SocSem_Telegram\\\\data\\\\topics.xlsx')\n",
    "\n",
    "## Dataframe of messages containing alt-tech urls\n",
    "alt_df = pd.read_excel(\"E:\\\\._PhD\\\\Publications\\\\SocSem_Telegram\\\\Code\\\\alt_df.xlsx\")"
   ]
  },
  {
   "cell_type": "markdown",
   "metadata": {},
   "source": [
    "## Network building"
   ]
  },
  {
   "cell_type": "code",
   "execution_count": 4,
   "metadata": {},
   "outputs": [
    {
     "name": "stdout",
     "output_type": "stream",
     "text": [
      "Total number of edges: 3818\n"
     ]
    }
   ],
   "source": [
    "# make edges direction B -> A (message was forwarded from B to A)\n",
    "edges = list(zip(alt_df['fwd_from'], alt_df['to_id']))\n",
    "print(\"Total number of edges:\", len(edges))"
   ]
  },
  {
   "cell_type": "code",
   "execution_count": 5,
   "metadata": {},
   "outputs": [
    {
     "name": "stdout",
     "output_type": "stream",
     "text": [
      "Total number of non-None edge: 3427\n"
     ]
    }
   ],
   "source": [
    "# Delete None values\n",
    "edges = [e for e in edges if None not in e]\n",
    "edges = [e for e in edges if not any(np.isnan(x) for x in e)]\n",
    "print(\"Total number of non-None edge:\", len(edges))\n",
    "\n",
    "# Set weights\n",
    "weights = dict(Counter(edges)) # Counter of number of existing forwards between each pair of channels\n",
    "e = [(k[0], k[1], v) for k, v in weights.items()]\n",
    "\n",
    "# # Normalize weights in e by total number of messages forwarded from each node\n",
    "# e = [(k[0], k[1], v/len([x for x in edges if x[0] == k[0]])) for k, v in weights.items()]\n"
   ]
  },
  {
   "cell_type": "code",
   "execution_count": 6,
   "metadata": {},
   "outputs": [
    {
     "name": "stdout",
     "output_type": "stream",
     "text": [
      "Total number of nodes: 356\n",
      "Number of duplicates: 0\n"
     ]
    }
   ],
   "source": [
    "nodes = list(set([item for sublist in edges for item in sublist]))\n",
    "print(\"Total number of nodes:\", len(nodes))\n",
    "\n",
    "# check no duplicates\n",
    "print(\"Number of duplicates:\", len([k for k, v in dict(Counter(nodes)).items() if v > 1]))"
   ]
  },
  {
   "cell_type": "code",
   "execution_count": 7,
   "metadata": {},
   "outputs": [
    {
     "name": "stdout",
     "output_type": "stream",
     "text": [
      "Number of isolated nodes: 0\n"
     ]
    }
   ],
   "source": [
    "G=nx.DiGraph()\n",
    "G.add_nodes_from(nodes)\n",
    "G.add_weighted_edges_from(e)\n",
    "print(\"Number of isolated nodes:\", len(list(nx.isolates(G))))"
   ]
  },
  {
   "cell_type": "code",
   "execution_count": 8,
   "metadata": {},
   "outputs": [
    {
     "name": "stdout",
     "output_type": "stream",
     "text": [
      "DiGraph with 356 nodes and 607 edges\n"
     ]
    }
   ],
   "source": [
    "print(G)"
   ]
  },
  {
   "cell_type": "code",
   "execution_count": 9,
   "metadata": {},
   "outputs": [
    {
     "name": "stdout",
     "output_type": "stream",
     "text": [
      "[(1116499975.0, 1446718427, {'weight': 18}), (1398738967.0, 1271719213, {'weight': 5}), (1398738967.0, 1161666782, {'weight': 5}), (1398738967.0, 1362651760, {'weight': 5}), (1398738967.0, 1201072738, {'weight': 5}), (1398738967.0, 1277771372, {'weight': 29}), (1398738967.0, 1250324144, {'weight': 5}), (1398738967.0, 1392836102, {'weight': 6}), (1398738967.0, 1314300626, {'weight': 4}), (1398738967.0, 1200042196, {'weight': 4})]\n"
     ]
    }
   ],
   "source": [
    "# Print head of list of edges with associated weights\n",
    "print(list(G.edges(data=True))[:10])"
   ]
  },
  {
   "cell_type": "markdown",
   "metadata": {},
   "source": [
    "### Basic community detetion"
   ]
  },
  {
   "cell_type": "markdown",
   "metadata": {},
   "source": [
    "### Detect"
   ]
  },
  {
   "cell_type": "code",
   "execution_count": null,
   "metadata": {},
   "outputs": [],
   "source": [
    "# !pip install git+https://github.com/taynaud/python-louvain.git"
   ]
  },
  {
   "cell_type": "code",
   "execution_count": 101,
   "metadata": {},
   "outputs": [
    {
     "data": {
      "text/plain": [
       "{1000787017.0: 45,\n",
       " 1007269511.0: 45,\n",
       " 1000611791: 45,\n",
       " 1476086765: 44,\n",
       " 1470334558.0: 44,\n",
       " 1001403366.0: 43,\n",
       " 1000840687: 43,\n",
       " 1250288610.0: 42,\n",
       " 1261591630: 42,\n",
       " 1340348395.0: 42}"
      ]
     },
     "execution_count": 101,
     "metadata": {},
     "output_type": "execute_result"
    }
   ],
   "source": [
    "# Detect Louvain communities\n",
    "\n",
    "from community import community_louvain # https://github.com/taynaud/python-louvain\n",
    "partition = community_louvain.best_partition(G.to_undirected()) # {node: community ID}\n",
    "p_descending = {k: v for k, v in sorted(partition.items(), key=lambda item: item[1], reverse=True)}\n",
    "dict(islice(p_descending.items(), 0, 10))"
   ]
  },
  {
   "cell_type": "code",
   "execution_count": null,
   "metadata": {},
   "outputs": [
    {
     "name": "stdout",
     "output_type": "stream",
     "text": [
      "Modularity of the partition: 0.7142446803884457\n"
     ]
    }
   ],
   "source": [
    "modularity = community_louvain.modularity(partition, G.to_undirected())\n",
    "print(f\"Modularity of the partition: {modularity}\")"
   ]
  },
  {
   "cell_type": "code",
   "execution_count": 30,
   "metadata": {},
   "outputs": [],
   "source": [
    "# Create dict {C: L} where C is the community label and L is the list of nodes (channels) belonging to that community\n",
    "\n",
    "from collections import defaultdict\n",
    "\n",
    "communities = defaultdict(list)\n",
    "\n",
    "for key, value in sorted(partition.items()):\n",
    "    communities[value].append(key)\n",
    "\n",
    "# dict(islice(communities.items(), 0, 3))"
   ]
  },
  {
   "cell_type": "code",
   "execution_count": 31,
   "metadata": {},
   "outputs": [
    {
     "name": "stdout",
     "output_type": "stream",
     "text": [
      "Minimum community size: 2\n",
      "Maximum community size: 45\n",
      "Average community size: 7.739130434782608\n",
      "Share of communities of size 2: 1.173913043478261\n"
     ]
    }
   ],
   "source": [
    "# Community size\n",
    "\n",
    "c_size = {k: len(v) for k,v in communities.items()}\n",
    "# dict(islice(c_size.items(), 0, 10))\n",
    "\n",
    "print(\"Minimum community size:\", min(c_size.values()))\n",
    "print(\"Maximum community size:\", max(c_size.values()))\n",
    "print(\"Average community size:\", sum(c_size.values())/len(c_size))\n",
    "print(\"Share of communities of size 2:\", sum([v for k,v in c_size.items() if v == 2])/len(c_size))"
   ]
  },
  {
   "cell_type": "code",
   "execution_count": 32,
   "metadata": {},
   "outputs": [],
   "source": [
    "# Remove communities of size inferior or equal to n\n",
    "nodes_to_remove = []\n",
    "for community_id, nodes_in_community in communities.items():\n",
    "  if len(nodes_in_community) <= 2:\n",
    "    nodes_to_remove.extend(nodes_in_community)\n",
    "\n",
    "partition2 = {node: community_id for node, community_id in partition.items() if node not in nodes_to_remove}"
   ]
  },
  {
   "cell_type": "code",
   "execution_count": 106,
   "metadata": {},
   "outputs": [
    {
     "name": "stdout",
     "output_type": "stream",
     "text": [
      "Minimum community2 size: 3\n",
      "Maximum community2 size: 45\n",
      "Average community2 size: 15.894736842105264\n"
     ]
    }
   ],
   "source": [
    "# Create communities from partition2\n",
    "\n",
    "communities2 = defaultdict(list)\n",
    "\n",
    "for key, value in sorted(partition2.items()):\n",
    "    communities2[value].append(key)\n",
    "\n",
    "# Create dictionary of community sizes from communities2\n",
    "c_size2 = {k: len(v) for k,v in communities2.items()}\n",
    "\n",
    "print(\"Minimum community2 size:\", min(c_size2.values()))\n",
    "print(\"Maximum community2 size:\", max(c_size2.values()))\n",
    "print(\"Average community2 size:\", sum(c_size2.values())/len(c_size2))"
   ]
  },
  {
   "cell_type": "code",
   "execution_count": null,
   "metadata": {},
   "outputs": [],
   "source": [
    "# Save partition as pickle\n",
    "\n",
    "# with open('E:\\._PhD\\Publications\\SocSem_Telegram\\data\\partition.pkl', 'wb') as f:\n",
    "#     pickle.dump(partition, f)\n",
    "\n",
    "# with open('partition2.pkl', 'wb') as f:\n",
    "#     pickle.dump(partition2, f)\n",
    "\n",
    "# with open('E:\\._PhD\\Publications\\SocSem_Telegram\\data\\partition.pkl', 'rb') as f:\n",
    "#     partition = pickle.load(f)"
   ]
  },
  {
   "cell_type": "code",
   "execution_count": 20,
   "metadata": {},
   "outputs": [],
   "source": [
    "# Save graph\n",
    "\n",
    "# Add the community label to nodes\n",
    "\n",
    "for node, community_id in partition.items():\n",
    "    G.nodes[node]['community'] = community_id\n",
    "\n",
    "# nx.write_gexf(G, \"E:\\._PhD\\Publications\\SocSem_Telegram\\data\\graph.gexf\")"
   ]
  },
  {
   "cell_type": "markdown",
   "metadata": {},
   "source": [
    "## Topic presence per community"
   ]
  },
  {
   "cell_type": "code",
   "execution_count": null,
   "metadata": {},
   "outputs": [],
   "source": [
    "# Loop through valid topic keys\n",
    "for topic_id in topics.keys():\n",
    "    sentences = topics[topic_id]\n",
    "\n",
    "    # Create a new column in alt_df to indicate if a sentence belongs to the current topic\n",
    "    alt_df[f'topic_{topic_id}'] = alt_df['text'].apply(lambda x: 1 if x in sentences else 0)"
   ]
  },
  {
   "cell_type": "code",
   "execution_count": 13,
   "metadata": {},
   "outputs": [
    {
     "data": {
      "text/plain": [
       "dict_keys([4, 1, 0, 5, 8, 2, 6, 3, 9, 7])"
      ]
     },
     "execution_count": 13,
     "metadata": {},
     "output_type": "execute_result"
    }
   ],
   "source": [
    "topics.keys()"
   ]
  },
  {
   "cell_type": "code",
   "execution_count": 14,
   "metadata": {},
   "outputs": [
    {
     "data": {
      "image/png": "[encoded data removed]",
      "text/plain": [
       "<Figure size 800x500 with 1 Axes>"
      ]
     },
     "metadata": {},
     "output_type": "display_data"
    }
   ],
   "source": [
    "# Store the number of sentences in each topic\n",
    "topic_counts = {k:len(v) for k,v in topics.items()}\n",
    "\n",
    "# Sort the topic counts in descending order\n",
    "sorted_topic_counts = dict(sorted(topic_counts.items(), key=lambda item: item[1], reverse=True))\n",
    "sorted_topic_counts\n",
    "\n",
    "# Extract the topic IDs and counts\n",
    "topic_ids = sorted_topic_counts.keys()\n",
    "counts = sorted_topic_counts.values()\n",
    "\n",
    "# Create the histogram\n",
    "plt.figure(figsize=(8, 5))  # Increase figure size for better visibility\n",
    "bars = plt.bar(range(len(topic_ids)), counts, color='skyblue')  # Change bar color\n",
    "plt.xticks(range(len(topic_ids)), topic_ids, rotation=45, ha=\"right\", fontsize=10)  # Set sorted topic IDs as x-axis labels\n",
    "plt.xlabel(\"Topic ID\", fontsize=14)  # Increased font size for labels\n",
    "plt.ylabel(\"Number of Sentences\", fontsize=14)\n",
    "# plt.title(\"Representation of Topics in the Data\", fontsize=16)  # Increased font size for title\n",
    "# plt.xticks(rotation=45, ha=\"right\", fontsize=12)  # Increased font size for x-axis labels\n",
    "plt.yticks(fontsize=12)  # Increased font size for y-axis labels\n",
    "# plt.tight_layout()  # Adjust layout to prevent labels from overlapping\n",
    "plt.grid(axis='y', linestyle='--', alpha=0.7)  # Added gridlines for better readability\n",
    "plt.show()\n"
   ]
  },
  {
   "cell_type": "markdown",
   "metadata": {},
   "source": [
    "## Topic entropy across Louvain communities"
   ]
  },
  {
   "cell_type": "code",
   "execution_count": 15,
   "metadata": {},
   "outputs": [
    {
     "name": "stdout",
     "output_type": "stream",
     "text": [
      "{4: 0.48388221920838115, 1: 0.10010553415527879, 0: 0.09157969910674624, 5: 0.08616432022032583, 8: 0.1402378003607607, 2: 0.06255170276855408, 6: 0.056493427534855735, 3: 0.07292014950736528, 9: 0.06763141485559075, 7: 0.04508007594290245}\n"
     ]
    }
   ],
   "source": [
    "# prompt: For each topic, compute the entropy across Louvain communities\n",
    "\n",
    "# Group messages by community\n",
    "alt_df['community'] = alt_df['to_id'].map(partition)\n",
    "\n",
    "# Calculate topic entropy for each topic\n",
    "topic_entropy = {}\n",
    "for topic_id in topics.keys():\n",
    "    # Calculate the probability of each topic occurring in each community\n",
    "    topic_community_counts = alt_df.groupby(['community', f'topic_{topic_id}'])['id'].count().unstack(fill_value=0)\n",
    "    topic_community_probs = topic_community_counts.div(topic_community_counts.sum(axis=1), axis=0)\n",
    "\n",
    "    # Calculate the entropy for each community\n",
    "    community_entropy = - (topic_community_probs * np.log2(topic_community_probs + 1e-10)).sum(axis=1)\n",
    "\n",
    "    # Calculate the overall entropy across communities\n",
    "    topic_entropy[topic_id] = community_entropy.mean()\n",
    "\n",
    "# Print the topic entropy\n",
    "print(topic_entropy)\n"
   ]
  },
  {
   "cell_type": "code",
   "execution_count": 16,
   "metadata": {},
   "outputs": [
    {
     "data": {
      "image/png": "[encoded data removed]",
      "text/plain": [
       "<Figure size 800x500 with 1 Axes>"
      ]
     },
     "metadata": {},
     "output_type": "display_data"
    }
   ],
   "source": [
    "# Extract topic IDs and entropies\n",
    "topic_ids = list(topic_entropy.keys())\n",
    "entropies = list(topic_entropy.values())\n",
    "\n",
    "# Sort topic IDs and entropies in descending order of entropy\n",
    "sorted_indices = np.argsort(entropies)[::-1]\n",
    "topic_ids = [topic_ids[i] for i in sorted_indices]\n",
    "entropies = [entropies[i] for i in sorted_indices]\n",
    "\n",
    "# Create the histogram\n",
    "plt.figure(figsize=(8, 5))  # Increase figure size for better visibility\n",
    "bars = plt.bar(range(len(topic_ids)), entropies, color='skyblue')  # Change bar color\n",
    "plt.xticks(range(len(topic_ids)), topic_ids, rotation=45, ha=\"right\", fontsize=10)  # Set sorted topic IDs as x-axis labels\n",
    "\n",
    "# Add entropy values above each bar\n",
    "for bar in bars:\n",
    "    height = bar.get_height()\n",
    "    plt.text(bar.get_x() + bar.get_width() / 2, height + 0.01, f\"{height:.2f}\",\n",
    "             ha='center', va='bottom', fontsize=8)  # Display approximate entropy value above each bar\n",
    "\n",
    "# Customize the plot\n",
    "plt.xlabel(\"Topic ID\", fontsize=12)  # Increase font size\n",
    "plt.ylabel(\"Topic Entropy\", fontsize=12)\n",
    "# plt.title(\"Distribution of Topic Entropies (Sorted)\", fontsize=14)\n",
    "plt.yticks(fontsize=10)  # Adjust y-axis font size\n",
    "plt.grid(axis='y', linestyle='--', alpha=0.7)  # Add gridlines\n",
    "plt.tight_layout()  # Adjust layout to prevent labels from overlapping\n",
    "\n",
    "# Show the plot\n",
    "plt.show()"
   ]
  },
  {
   "cell_type": "code",
   "execution_count": 17,
   "metadata": {},
   "outputs": [],
   "source": [
    "# prompt: Create a dataframe that associates each community to the list of topics that are present in it (according to whether at least one channel in the community is the author of at least one message in the topic)\n",
    "\n",
    "# Create a dictionary to store the community-topic associations\n",
    "community_topics = {}\n",
    "\n",
    "# Iterate over the communities\n",
    "for community_id in alt_df['community'].unique():\n",
    "  # Get the messages in the current community\n",
    "  community_messages = alt_df[alt_df['community'] == community_id]\n",
    "\n",
    "  # Find the topics present in the community\n",
    "  topics_in_community = []\n",
    "  for topic_id in topics.keys():\n",
    "    if community_messages[f'topic_{topic_id}'].sum() > 0:\n",
    "      topics_in_community.append(topic_id)\n",
    "\n",
    "  # Store the topics associated with the community\n",
    "  community_topics[community_id] = topics_in_community\n",
    "\n",
    "# Create a DataFrame from the community_topics dictionary\n",
    "community_topics_df = pd.DataFrame(list(community_topics.items()), columns=['Community', 'Topics'])\n"
   ]
  },
  {
   "cell_type": "code",
   "execution_count": 18,
   "metadata": {},
   "outputs": [
    {
     "data": {
      "text/html": [
       "<div>\n",
       "<style scoped>\n",
       "    .dataframe tbody tr th:only-of-type {\n",
       "        vertical-align: middle;\n",
       "    }\n",
       "\n",
       "    .dataframe tbody tr th {\n",
       "        vertical-align: top;\n",
       "    }\n",
       "\n",
       "    .dataframe thead th {\n",
       "        text-align: right;\n",
       "    }\n",
       "</style>\n",
       "<table border=\"1\" class=\"dataframe\">\n",
       "  <thead>\n",
       "    <tr style=\"text-align: right;\">\n",
       "      <th></th>\n",
       "      <th>Community</th>\n",
       "      <th>Topics</th>\n",
       "    </tr>\n",
       "  </thead>\n",
       "  <tbody>\n",
       "    <tr>\n",
       "      <th>0</th>\n",
       "      <td>4.0</td>\n",
       "      <td>[4, 1, 0, 5, 8, 2, 3, 9]</td>\n",
       "    </tr>\n",
       "    <tr>\n",
       "      <th>1</th>\n",
       "      <td>7.0</td>\n",
       "      <td>[4, 1, 0, 5, 8, 6, 3, 9, 7]</td>\n",
       "    </tr>\n",
       "    <tr>\n",
       "      <th>2</th>\n",
       "      <td>8.0</td>\n",
       "      <td>[4, 0, 5, 8, 6, 3, 9, 7]</td>\n",
       "    </tr>\n",
       "    <tr>\n",
       "      <th>3</th>\n",
       "      <td>14.0</td>\n",
       "      <td>[4, 1, 0, 5, 8, 2, 6, 3, 9, 7]</td>\n",
       "    </tr>\n",
       "    <tr>\n",
       "      <th>4</th>\n",
       "      <td>13.0</td>\n",
       "      <td>[4, 1, 0, 5, 8, 2, 6, 3, 9]</td>\n",
       "    </tr>\n",
       "  </tbody>\n",
       "</table>\n",
       "</div>"
      ],
      "text/plain": [
       "   Community                          Topics\n",
       "0        4.0        [4, 1, 0, 5, 8, 2, 3, 9]\n",
       "1        7.0     [4, 1, 0, 5, 8, 6, 3, 9, 7]\n",
       "2        8.0        [4, 0, 5, 8, 6, 3, 9, 7]\n",
       "3       14.0  [4, 1, 0, 5, 8, 2, 6, 3, 9, 7]\n",
       "4       13.0     [4, 1, 0, 5, 8, 2, 6, 3, 9]"
      ]
     },
     "execution_count": 18,
     "metadata": {},
     "output_type": "execute_result"
    }
   ],
   "source": [
    "community_topics_df.head()"
   ]
  },
  {
   "cell_type": "code",
   "execution_count": 21,
   "metadata": {},
   "outputs": [],
   "source": [
    "# prompt: To each node in G, for i in topics.keys(), add an attribute \"topic_i\" that equals one if the topic is present in the community that the node belongs to, 0 otherwise.\n",
    "\n",
    "# Iterate over the nodes in the graph\n",
    "for node in G.nodes():\n",
    "  # Get the community ID of the node\n",
    "  community_id = G.nodes[node]['community']\n",
    "\n",
    "  # Iterate over the topics\n",
    "  for topic_id in topics.keys():\n",
    "    # Check if the topic is present in the community\n",
    "    if topic_id in community_topics[community_id]:\n",
    "      # Set the topic attribute to 1\n",
    "      G.nodes[node][f'topic_{topic_id}'] = 1\n",
    "    else:\n",
    "      # Set the topic attribute to 0\n",
    "      G.nodes[node][f'topic_{topic_id}'] = 0\n"
   ]
  },
  {
   "cell_type": "code",
   "execution_count": 33,
   "metadata": {},
   "outputs": [],
   "source": [
    "nodes2 = partition2.keys()\n",
    "G2 = G.subgraph(nodes2).copy() "
   ]
  },
  {
   "cell_type": "code",
   "execution_count": 34,
   "metadata": {},
   "outputs": [
    {
     "name": "stdout",
     "output_type": "stream",
     "text": [
      "DiGraph with 302 nodes and 573 edges\n"
     ]
    }
   ],
   "source": [
    "print(G2)"
   ]
  },
  {
   "cell_type": "code",
   "execution_count": 153,
   "metadata": {},
   "outputs": [],
   "source": [
    "# prompt: write G to gexf\n",
    "\n",
    "nx.write_gexf(G, r\"E:\\._PhD\\Publications\\SocSem_Telegram\\data\\alt_tech_network_with_topics.gexf\")\n",
    "nx.write_gexf(G2, r\"E:\\._PhD\\Publications\\SocSem_Telegram\\data\\alt_tech_network_with_topics_no_dyads.gexf\")\n",
    "# G = nx.read_gexf(r\"E:\\._PhD\\Publications\\SocSem_Telegram\\data\\alt_tech_network_with_topics.gexf\")"
   ]
  },
  {
   "cell_type": "markdown",
   "metadata": {},
   "source": [
    "## Topics within topics"
   ]
  },
  {
   "cell_type": "markdown",
   "metadata": {},
   "source": [
    "### Topic 4\n",
    "\n",
    "Alternative Platforms and Censorship"
   ]
  },
  {
   "cell_type": "code",
   "execution_count": 39,
   "metadata": {},
   "outputs": [
    {
     "data": {
      "application/vnd.jupyter.widget-view+json": {
       "model_id": "e975ac38abaa4123a3e18bb9f7983ac6",
       "version_major": 2,
       "version_minor": 0
      },
      "text/plain": [
       "Batches:   0%|          | 0/12 [00:00<?, ?it/s]"
      ]
     },
     "metadata": {},
     "output_type": "display_data"
    }
   ],
   "source": [
    "# Embeddings\n",
    "\n",
    "# !pip install sentence_transformers\n",
    "from sentence_transformers import SentenceTransformer\n",
    "model = SentenceTransformer('distiluse-base-multilingual-cased-v2')\n",
    "embeddings = model.encode(topics[4], show_progress_bar=True)"
   ]
  },
  {
   "cell_type": "code",
   "execution_count": 40,
   "metadata": {},
   "outputs": [],
   "source": [
    "# Dimensionality reduction\n",
    "\n",
    "# !pip install umap-learn\n",
    "import umap.umap_ as umap\n",
    "\n",
    "umap_embeddings = umap.UMAP(n_neighbors=15,\n",
    "                            n_components=5,\n",
    "                            metric='cosine').fit_transform(embeddings)"
   ]
  },
  {
   "cell_type": "code",
   "execution_count": 41,
   "metadata": {},
   "outputs": [],
   "source": [
    "# Clustering\n",
    "\n",
    "# !pip install hdbscan\n",
    "import hdbscan\n",
    "cluster = hdbscan.HDBSCAN(min_cluster_size=15,\n",
    "                          metric='euclidean',\n",
    "                          cluster_selection_method='eom', core_dist_n_jobs=1).fit(umap_embeddings)\n",
    "\n",
    "cluster_labels = cluster.fit_predict(umap_embeddings)"
   ]
  },
  {
   "cell_type": "code",
   "execution_count": 42,
   "metadata": {},
   "outputs": [
    {
     "data": {
      "image/png": "[encoded data removed]",
      "text/plain": [
       "<Figure size 1400x800 with 2 Axes>"
      ]
     },
     "metadata": {},
     "output_type": "display_data"
    }
   ],
   "source": [
    "# prompt: Improve the plot produced in the cell above by making it prettier, easy to read, add title to the axes but not the overall plot\n",
    "\n",
    "import matplotlib.pyplot as plt\n",
    "\n",
    "# Prepare data\n",
    "umap_data = umap.UMAP(n_neighbors=15, n_components=2, min_dist=0.0, metric='cosine').fit_transform(embeddings)\n",
    "result = pd.DataFrame(umap_data, columns=['x', 'y'])\n",
    "result['labels'] = cluster.labels_\n",
    "\n",
    "# Visualize clusters\n",
    "fig, ax = plt.subplots(figsize=(14, 8))\n",
    "outliers = result.loc[result.labels == -1, :]\n",
    "clustered = result.loc[result.labels != -1, :]\n",
    "plt.scatter(outliers.x, outliers.y, color='#BDBDBD', s=0.05)\n",
    "plt.scatter(clustered.x, clustered.y, c=clustered.labels, s=10, cmap='Spectral')\n",
    "plt.colorbar().ax.set_title('Cluster ID')\n",
    "ax.set_xlabel('UMAP Dimension 1')\n",
    "ax.set_ylabel('UMAP Dimension 2')\n",
    "plt.show()\n"
   ]
  },
  {
   "cell_type": "markdown",
   "metadata": {},
   "source": [
    "### Topic 9\n",
    "\n",
    "Religious Reflections and Community Solidarity"
   ]
  },
  {
   "cell_type": "code",
   "execution_count": 49,
   "metadata": {},
   "outputs": [
    {
     "data": {
      "application/vnd.jupyter.widget-view+json": {
       "model_id": "457e9ac6e7a843f196be181ed9bd1bdc",
       "version_major": 2,
       "version_minor": 0
      },
      "text/plain": [
       "Batches:   0%|          | 0/3 [00:00<?, ?it/s]"
      ]
     },
     "metadata": {},
     "output_type": "display_data"
    }
   ],
   "source": [
    "# Embeddings\n",
    "\n",
    "# !pip install sentence_transformers\n",
    "from sentence_transformers import SentenceTransformer\n",
    "model = SentenceTransformer('distiluse-base-multilingual-cased-v2')\n",
    "embeddings = model.encode(topics[3], show_progress_bar=True)"
   ]
  },
  {
   "cell_type": "code",
   "execution_count": 50,
   "metadata": {},
   "outputs": [],
   "source": [
    "# Dimensionality reduction\n",
    "\n",
    "# !pip install umap-learn\n",
    "import umap.umap_ as umap\n",
    "\n",
    "umap_embeddings = umap.UMAP(n_neighbors=15,\n",
    "                            n_components=5,\n",
    "                            metric='cosine').fit_transform(embeddings)"
   ]
  },
  {
   "cell_type": "code",
   "execution_count": 51,
   "metadata": {},
   "outputs": [],
   "source": [
    "# Clustering\n",
    "\n",
    "# !pip install hdbscan\n",
    "import hdbscan\n",
    "cluster = hdbscan.HDBSCAN(min_cluster_size=15,\n",
    "                          metric='euclidean',\n",
    "                          cluster_selection_method='eom', core_dist_n_jobs=1).fit(umap_embeddings)\n",
    "\n",
    "cluster_labels = cluster.fit_predict(umap_embeddings)"
   ]
  },
  {
   "cell_type": "code",
   "execution_count": 52,
   "metadata": {},
   "outputs": [
    {
     "data": {
      "image/png": "[encoded data removed]",
      "text/plain": [
       "<Figure size 1400x800 with 2 Axes>"
      ]
     },
     "metadata": {},
     "output_type": "display_data"
    }
   ],
   "source": [
    "# prompt: Improve the plot produced in the cell above by making it prettier, easy to read, add title to the axes but not the overall plot\n",
    "\n",
    "import matplotlib.pyplot as plt\n",
    "\n",
    "# Prepare data\n",
    "umap_data = umap.UMAP(n_neighbors=15, n_components=2, min_dist=0.0, metric='cosine').fit_transform(embeddings)\n",
    "result = pd.DataFrame(umap_data, columns=['x', 'y'])\n",
    "result['labels'] = cluster.labels_\n",
    "\n",
    "# Visualize clusters\n",
    "fig, ax = plt.subplots(figsize=(14, 8))\n",
    "outliers = result.loc[result.labels == -1, :]\n",
    "clustered = result.loc[result.labels != -1, :]\n",
    "plt.scatter(outliers.x, outliers.y, color='#BDBDBD', s=0.05)\n",
    "plt.scatter(clustered.x, clustered.y, c=clustered.labels, s=10, cmap='Spectral')\n",
    "plt.colorbar().ax.set_title('Cluster ID')\n",
    "ax.set_xlabel('UMAP Dimension 1')\n",
    "ax.set_ylabel('UMAP Dimension 2')\n",
    "plt.show()\n"
   ]
  },
  {
   "cell_type": "code",
   "execution_count": 56,
   "metadata": {},
   "outputs": [
    {
     "data": {
      "text/plain": [
       "0.4268292682926829"
      ]
     },
     "execution_count": 56,
     "metadata": {},
     "output_type": "execute_result"
    }
   ],
   "source": [
    "# Export topics to Excel\n",
    "\n",
    "# Group sentences by topic (cluster label)\n",
    "topics3 = {}\n",
    "for sentence, label in zip(topics[3], cluster_labels):\n",
    "    if label not in topics3:\n",
    "        topics3[label] = []\n",
    "    topics3[label].append(sentence)\n",
    "\n",
    "# Prepare the data for exporting\n",
    "# Convert each topic to a DataFrame\n",
    "dataframes = {}\n",
    "for topic_id, sentences in topics3.items():\n",
    "    df = pd.DataFrame(sentences, columns=['Sentences'])\n",
    "    dataframes[f'Topic {topic_id}'] = df\n",
    "\n",
    "len(topics3[-1])/len(topics[3])"
   ]
  },
  {
   "cell_type": "code",
   "execution_count": 57,
   "metadata": {},
   "outputs": [
    {
     "data": {
      "text/plain": [
       "dict_keys([0, -1, 1])"
      ]
     },
     "execution_count": 57,
     "metadata": {},
     "output_type": "execute_result"
    }
   ],
   "source": [
    "topics3.keys()"
   ]
  },
  {
   "cell_type": "code",
   "execution_count": 60,
   "metadata": {},
   "outputs": [
    {
     "name": "stdout",
     "output_type": "stream",
     "text": [
      "\n",
      "Topic 0:\n",
      "                                            Sentences\n",
      "0      - Biden’s trip to Israel; US/Israeli relations\n",
      "1            Israel's Internet Censorship War (14:15)\n",
      "2   From the article, \"How Israel and its partisan...\n",
      "3                The Jewish Led Attack on Free Speech\n",
      "4             ​How the Jews opened America's Borders.\n",
      "5           FUCK  BUSH - FUCK ISRAEL & FUCK ZIONISTS.\n",
      "6       Quit letting Greedy Jews plunder our country.\n",
      "7   \"U.S. Attorney General Bill Barr holds a summi...\n",
      "8               How the Israel Lobby Controls America\n",
      "9                        Only the Jews seek that.—Dr.\n",
      "10  ​The Jewish state of Israel & the 'Irgun Terro...\n",
      "11                        Muslim bad - Jewish - good.\n",
      "12                                  7:08 \"I'm jewish\"\n",
      "13     The Jewish Question explained in four minutes.\n",
      "14        Jewish Author Promotes Paedophilia to Teens\n",
      "15  KEN O’KEEFE - US MILITARY FIGHTING FOR ISRAEL ...\n",
      "16      Jewish Noahide Law and U.S. Public Law 102-14\n",
      "17        Aren't Jews supposed to be good with money?\n",
      "18  One of the Israeli jewish weapons used to cont...\n",
      "19  and don't forget to read/listen to their manua...\n",
      "20  Nearly 800 Years of Jew Usury has Gotten Us to...\n",
      "21                          #IlhanOmar #Jews #Zionism\n",
      "22  I hate this woman but I love she is driving th...\n",
      "23                       The Zionist Jew World Order:\n",
      "24                    The Myth of the Good Jew [8:52]\n",
      "25     ZIONIST FILES: ISRAELI HASBARA TROLLS EXPOSED!\n",
      "\n",
      "Topic -1:\n",
      "                                            Sentences\n",
      "0   An exposé on Israel's detailed projects – some...\n",
      "1   Texe Marrs interviews noted author Michael Col...\n",
      "2   The Golem, in Jewish lore and legend, is a mon...\n",
      "3   Piper says that today, Israel's huge and growi...\n",
      "4   Horribly, The Golem of Israel may end up hurdl...\n",
      "5   Expel the real invaders, the Communist Jews on...\n",
      "6   Judeo-Bolsheviks have been jockeying for supre...\n",
      "7   There are approximately six million Jews in th...\n",
      "8   If the Jews were not present we could overcome...\n",
      "9   \"Ethnic Cleansing\" in Kashmir, Israel Spying o...\n",
      "10     How many of us know anything about the Talmud?\n",
      "11  The Talmud is the source from which the code o...\n",
      "12  The talmud explains some of the logic behind J...\n",
      "13  If you missed this Mark C vs The Zionists deba...\n",
      "14  Zionist Chabad zombie/troll complains and defl...\n",
      "15  This hero who tried to warn the world about th...\n",
      "16  i apologize for the conversation these pervert...\n",
      "17  Ken O'Keefe is re-releasing his epic expose of...\n",
      "18  With Syria not all going to plan, the ultimate...\n",
      "19  How many more American sons and daughters will...\n",
      "20  If you don't know what this is about, watch th...\n",
      "21  He mentions Know More News and I'll add Israel...\n",
      "22  Often when there is descent expressed in the U...\n",
      "23  When in this country people are criticizing we...\n",
      "24           Myth of Superior Jewish (Ashkenazi) IQ..\n",
      "25  Willis & Elizabeth Cardo = scum, 'Are the Jews...\n",
      "26  There is for example the Assertion of the extr...\n",
      "27  General of World Jewish Congress) book 'The Ch...\n",
      "28  There is a masochistic mentality in jewish tra...\n",
      "29  It allows the Jews to do whatever they will, i...\n",
      "30  11 Portuguese writer Nobel peace prize winner ...\n",
      "31  There is a claim in the introduction that the ...\n",
      "32  \"The Talmud is the central text of Rabbinic Ju...\n",
      "33  Dionne details the origin of sex-change drugs ...\n",
      "34  Are these \"migrants/refugees\" staying with Jew...\n",
      "\n",
      "Topic 1:\n",
      "                                            Sentences\n",
      "0   I mentioned in Talmud Vision that they don't c...\n",
      "1   In this show MCP confirms the fact that some j...\n",
      "2   This should be known by all those jews out the...\n",
      "3   I recall someone once stating that if these an...\n",
      "4   Once formed, he goes forth to kill and destroy...\n",
      "5   Israel's Zionist leaders, insane with hatred f...\n",
      "6   One aspect of the Jewish problem which adds to...\n",
      "7   They are a complete community, with women and ...\n",
      "8   The essential point again is this: not every J...\n",
      "9   So why tf are we not just as outraged when the...\n",
      "10  What a shame it is that this forthright and co...\n",
      "11  // It sounds like some of this is taken from a...\n",
      "12  Breaking down Albert Pike's Morals and Dogma S...\n",
      "13  The practical and even theoretical impossibili...\n",
      "14  ...“Well it’s a trick we ALWAYS use it, when i...\n",
      "15  Excellent show touching on the lie of jewish s...\n",
      "16  jews = NWO & want to rule the world, jews beli...\n",
      "17  In the 20th century, the noted author Arthur K...\n",
      "18  All this has its origins in the Jewish “arroga...\n",
      "19  'Saramago concentrated his attack on the suffe...\n",
      "20  They think 'now when we are so close to the wo...\n"
     ]
    }
   ],
   "source": [
    "# Print the DataFrames to check the output\n",
    "for topic_name, df in dataframes.items():\n",
    "    print(f\"\\n{topic_name}:\")\n",
    "    print(df)\n",
    "\n",
    "# Create an Excel writer object\n",
    "with pd.ExcelWriter('E:\\\\._PhD\\\\Publications\\\\SocSem_Telegram\\\\data\\\\subtopics3.xlsx', engine='openpyxl') as writer:\n",
    "    for topic_name, df in dataframes.items():\n",
    "        df.to_excel(writer, sheet_name=topic_name, index=False)"
   ]
  },
  {
   "cell_type": "markdown",
   "metadata": {},
   "source": [
    "## Write the graph with subtopics"
   ]
  },
  {
   "cell_type": "code",
   "execution_count": 61,
   "metadata": {},
   "outputs": [
    {
     "data": {
      "text/plain": [
       "Index(['Unnamed: 0', 'date', 'id', 'message', 'to_id', 'fwd_from', 'url',\n",
       "       'text', 'community', 'topic_4', 'topic_1', 'topic_0', 'topic_5',\n",
       "       'topic_8', 'topic_2', 'topic_6', 'topic_3', 'topic_9', 'topic_7'],\n",
       "      dtype='object')"
      ]
     },
     "execution_count": 61,
     "metadata": {},
     "output_type": "execute_result"
    }
   ],
   "source": [
    "alt_df.columns"
   ]
  },
  {
   "cell_type": "code",
   "execution_count": 62,
   "metadata": {},
   "outputs": [
    {
     "data": {
      "text/plain": [
       "7"
      ]
     },
     "execution_count": 62,
     "metadata": {},
     "output_type": "execute_result"
    }
   ],
   "source": [
    "alt_df['topic_3_1'] = alt_df['text'].apply(lambda x: 1 if x in topics3[1] else 0)\n",
    "alt_df_topic_3_1 = alt_df[alt_df['topic_3_1'] == 1]\n",
    "len(alt_df_topic_3_1['to_id'].unique())"
   ]
  },
  {
   "cell_type": "code",
   "execution_count": 72,
   "metadata": {},
   "outputs": [
    {
     "data": {
      "text/plain": [
       "{'community': 0,\n",
       " 'topic_4': 0,\n",
       " 'topic_1': 0,\n",
       " 'topic_0': 0,\n",
       " 'topic_5': 0,\n",
       " 'topic_8': 1,\n",
       " 'topic_2': 0,\n",
       " 'topic_6': 0,\n",
       " 'topic_3': 0,\n",
       " 'topic_9': 1,\n",
       " 'topic_7': 0,\n",
       " 'topic_3_1': 0}"
      ]
     },
     "execution_count": 72,
     "metadata": {},
     "output_type": "execute_result"
    }
   ],
   "source": [
    "G.nodes[1074780161]"
   ]
  },
  {
   "cell_type": "code",
   "execution_count": 74,
   "metadata": {},
   "outputs": [],
   "source": [
    "# Iterate over the nodes in the graph\n",
    "for node in G.nodes():\n",
    "  if node in [x for x in alt_df_topic_3_1['to_id'].unique()]:\n",
    "    # Set the topic_9_1 attribute to 1\n",
    "    G.nodes[node]['topic_3_1'] = 1\n",
    "  else:\n",
    "    # Set the topic_9_1 attribute to 0\n",
    "    G.nodes[node]['topic_3_1'] = 0\n"
   ]
  },
  {
   "cell_type": "code",
   "execution_count": 75,
   "metadata": {},
   "outputs": [
    {
     "data": {
      "text/plain": [
       "7"
      ]
     },
     "execution_count": 75,
     "metadata": {},
     "output_type": "execute_result"
    }
   ],
   "source": [
    "# Number of nodes for which topic_xxx = 1\n",
    "sum(nx.get_node_attributes(G, 'topic_3_1').values())"
   ]
  },
  {
   "cell_type": "code",
   "execution_count": 76,
   "metadata": {},
   "outputs": [],
   "source": [
    "# Write the graph\n",
    "\n",
    "nx.write_gexf(G, r\"E:\\._PhD\\Publications\\SocSem_Telegram\\data\\alt_tech_network_with_topics3.gexf\")"
   ]
  },
  {
   "cell_type": "code",
   "execution_count": null,
   "metadata": {},
   "outputs": [
    {
     "name": "stdout",
     "output_type": "stream",
     "text": [
      "{1: 0.15443430813910353}\n"
     ]
    }
   ],
   "source": [
    "# # prompt: Compute the entropy of topics9[1] across Louvain communities\n",
    "\n",
    "# # Group messages by community\n",
    "# alt_df['community'] = alt_df['to_id'].map(partition2)\n",
    "\n",
    "# # Calculate topic entropy for topics9[1]\n",
    "# topic_entropy = {}\n",
    "# topic_id = 1  # Assuming topics9[1] is the topic of interest\n",
    "\n",
    "# # Calculate the probability of the topic occurring in each community\n",
    "# topic_community_counts = alt_df.groupby(['community', 'topic_9_1'])['id'].count().unstack(fill_value=0)\n",
    "# topic_community_probs = topic_community_counts.div(topic_community_counts.sum(axis=1), axis=0)\n",
    "\n",
    "# # Calculate the entropy for each community\n",
    "# community_entropy = - (topic_community_probs * np.log2(topic_community_probs + 1e-10)).sum(axis=1)\n",
    "\n",
    "# # Calculate the overall entropy across communities\n",
    "# topic_entropy[topic_id] = community_entropy.mean()\n",
    "\n",
    "# # Print the topic entropy\n",
    "# print(topic_entropy)\n"
   ]
  }
 ],
 "metadata": {
  "kernelspec": {
   "display_name": "Python 3",
   "language": "python",
   "name": "python3"
  },
  "language_info": {
   "codemirror_mode": {
    "name": "ipython",
    "version": 3
   },
   "file_extension": ".py",
   "mimetype": "text/x-python",
   "name": "python",
   "nbconvert_exporter": "python",
   "pygments_lexer": "ipython3",
   "version": "3.11.9"
  }
 },
 "nbformat": 4,
 "nbformat_minor": 2
}
